{
 "cells": [
  {
   "cell_type": "code",
   "execution_count": 1,
   "metadata": {},
   "outputs": [],
   "source": [
    "import numpy as np\n",
    "import matplotlib.pyplot as plt"
   ]
  },
  {
   "cell_type": "code",
   "execution_count": 16,
   "metadata": {},
   "outputs": [],
   "source": [
    "def draw(x1, x2):\n",
    "    ln = plt.plot(x1,x2)\n",
    "    \n",
    "def sigmoid(score):\n",
    "    # Formula of the sigmoid activation function\n",
    "    return 1 / (1 + np.exp(-score))\n",
    "\n",
    "def calculate_error(p, y, points):\n",
    "    m = points.shape[0]\n",
    "    # general fromula for cross-entropy\n",
    "    # -[SUM (yln(p) + (1-y)(ln(1-p))]\n",
    "    cross_entropy = -(1/m) * (np.log(p).T * y + np.log(1 - p).T * (1 - y))\n",
    "    return cross_entropy\n",
    "\n",
    "def gradient_descent(line_parameters, points, y, alpha):\n",
    "    m = points.shape[0]\n",
    "    for i in range(2000):\n",
    "        p = sigmoid(points * line_parameters)\n",
    "        gradient = (points.T * (p - y)) / (alpha / m)\n",
    "        line_parameters = (line_parameters - gradient) \n",
    "        w1 = line_parameters.item(0)  \n",
    "        w2 = line_parameters.item(1)                   \n",
    "        b = line_parameters.item(2)                   \n",
    "\n",
    "        x1 = np.array([points[:, 0].min(), points[:, 0].max()])\n",
    "        x2 = (-b -(w1* x1)) / w2\n",
    "    draw(x1, x2)"
   ]
  },
  {
   "cell_type": "code",
   "execution_count": 17,
   "metadata": {},
   "outputs": [],
   "source": [
    "# Number of total points in the model\n",
    "n_pts = 100\n",
    "\n",
    "bias = np.ones(n_pts)\n",
    "np.random.seed(0)\n",
    "\n",
    "# Red points in the top right corner \n",
    "top_region =  np.array([np.random.normal(10, 2, n_pts), np.random.normal(12, 2, n_pts), bias]).T\n",
    "# Blue points in the bottom left corner\n",
    "bottom_region = np.array([np.random.normal(5, 2, n_pts), np.random.normal(6, 2, n_pts), bias]).T\n",
    "\n",
    "# Matrix (200, 3) containing all the coordinates as well as the bias\n",
    "all_points = np.vstack((top_region, bottom_region))\n",
    "\n",
    "# The wights and the bias\n",
    "# w1x1 + w2x2 + b = 0\n",
    "#w1 = -0.2\n",
    "#w2 = -0.35\n",
    "#b = 3.5\n",
    "\n",
    "# Matrix (3, 1) containing the the weights and the bias\n",
    "line_parameters = np.matrix([np.zeros(3)]).T\n",
    "\n",
    "# The x-value of the left-most and the right-most points in the model graph \n",
    "#x1 = np.array([bottom_region[:, 0].min(), top_region[:, 0].max()])\n",
    "\n",
    "# w1x1 + w2x2 + b = 0\n",
    "#x2 = (-b -(w1* x1)) / w2\n",
    "\n",
    "# (200, 1) Matrix which contains the linear combination of the points \n",
    "linear_combination = all_points * line_parameters\n",
    "\n",
    "# Probability Matrix of (200, 1)\n",
    "probabilities = sigmoid(linear_combination)\n",
    "\n",
    "# Matrix of (200, 1) including of 100 zeros and 100 ones for the red and blue points\n",
    "y = np.array([np.zeros(n_pts), np.ones(n_pts)]).reshape(200, 1)"
   ]
  },
  {
   "cell_type": "code",
   "execution_count": 18,
   "metadata": {},
   "outputs": [
    {
     "name": "stderr",
     "output_type": "stream",
     "text": [
      "c:\\users\\sfoto\\appdata\\local\\programs\\python\\python37\\lib\\site-packages\\ipykernel_launcher.py:6: RuntimeWarning: overflow encountered in exp\n",
      "  \n"
     ]
    },
    {
     "data": {
      "image/png": "[encoded data removed]",
      "text/plain": [
       "<Figure size 288x288 with 1 Axes>"
      ]
     },
     "metadata": {
      "needs_background": "light"
     },
     "output_type": "display_data"
    }
   ],
   "source": [
    "_, ax = plt.subplots(figsize= (4,4))\n",
    "ax.scatter(top_region[:, 0], top_region[:, 1], color = 'r')\n",
    "ax.scatter(bottom_region[:, 0], bottom_region[:, 1], color = 'blue')\n",
    "#draw(x1,x2)\n",
    "gradient_descent(line_parameters, all_points, y, 0.06)\n",
    "plt.show()"
   ]
  },
  {
   "cell_type": "code",
   "execution_count": 8,
   "metadata": {},
   "outputs": [
    {
     "name": "stdout",
     "output_type": "stream",
     "text": [
      "[[0.69314718]]\n"
     ]
    }
   ],
   "source": [
    "print(calculate_error(probabilities , y, all_points))"
   ]
  },
  {
   "cell_type": "code",
   "execution_count": 9,
   "metadata": {},
   "outputs": [],
   "source": [
    "# Comments \n",
    "\n",
    "# The error can be written as: -[ln(P(red)) + ln(P(blue))]\n",
    "\n",
    "# general fromula for cross-entropy\n",
    "# -SUM (yln(p) + (1-y)(ln(1-p))\n",
    "\n",
    "# Gradient Descent \n",
    "# pts = points\n",
    "# p = probability\n",
    "# y = label\n",
    "# m = number of points\n",
    "#  _\n",
    "# \\/ E = (pts * (p - y)) / m\n"
   ]
  },
  {
   "cell_type": "code",
   "execution_count": null,
   "metadata": {},
   "outputs": [],
   "source": []
  },
  {
   "cell_type": "code",
   "execution_count": null,
   "metadata": {},
   "outputs": [],
   "source": []
  },
  {
   "cell_type": "code",
   "execution_count": null,
   "metadata": {},
   "outputs": [],
   "source": []
  }
 ],
 "metadata": {
  "kernelspec": {
   "display_name": "Python 3",
   "language": "python",
   "name": "python3"
  },
  "language_info": {
   "codemirror_mode": {
    "name": "ipython",
    "version": 3
   },
   "file_extension": ".py",
   "mimetype": "text/x-python",
   "name": "python",
   "nbconvert_exporter": "python",
   "pygments_lexer": "ipython3",
   "version": "3.7.4"
  }
 },
 "nbformat": 4,
 "nbformat_minor": 4
}
